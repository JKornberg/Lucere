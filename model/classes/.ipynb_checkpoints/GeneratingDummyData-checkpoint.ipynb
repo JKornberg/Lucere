{
 "cells": [
  {
   "cell_type": "code",
   "execution_count": 1,
   "metadata": {},
   "outputs": [],
   "source": [
    "from IPython.display import Image \n",
    "from pyramid.response import Response\n"
   ]
  },
  {
   "cell_type": "code",
   "execution_count": 2,
   "metadata": {},
   "outputs": [],
   "source": [
    "from ZODB import FileStorage, DB\n",
    "from ZODB.interfaces import IBlobStorage\n",
    "import BTrees.OOBTree\n",
    "import transaction\n",
    "import persistent\n",
    "from datetime import datetime\n",
    "from datetime import timezone\n",
    "import numpy as np\n",
    "from ZODB.blob import Blob\n",
    "from PIL import Image as PImage\n",
    "import os"
   ]
  },
  {
   "cell_type": "code",
   "execution_count": 3,
   "metadata": {},
   "outputs": [],
   "source": [
    "from CameraDetails import CameraDetails\n",
    "from CaptureDetails import CaptureDetails\n",
    "from Result import Result\n",
    "from Settings import Settings\n",
    "from Trial import Trial\n",
    "from User import User"
   ]
  },
  {
   "cell_type": "code",
   "execution_count": 4,
   "metadata": {},
   "outputs": [],
   "source": [
    "from random import randint\n",
    "def makeCameraDetails():\n",
    "    return CameraDetails(randint(1,10),randint(1,10),randint(1,10),randint(1,10),randint(1,10),randint(1,10),randint(1,10),randint(1,10),randint(1,10),randint(1,10))\n",
    "def makeCaptureDetails():\n",
    "    sp = randint(500,6000)\n",
    "    duration = int(randint(sp,1200000)/1000) #0 to 1200 seconds (20 mins)\n",
    "    interval = int(randint(sp,duration*1000)/1000)\n",
    "    count = duration/interval\n",
    "    return CaptureDetails(sp,duration,interval,count)\n",
    "def makeResult():\n",
    "    return Result(randint(0,1),randint(500,700),randint(0,10))\n",
    "def makeImage():\n",
    "    A = (np.random.rand(1080,1920,3)*255).astype('uint8')\n",
    "    im = PImage.fromarray(A)\n",
    "    return im\n",
    "\n",
    "def makeScanPaths(trialId,userId,count):\n",
    "    return [f\"data/user{userId}/trial{trialId}/scan{i}.jpg\" for i in range(count)]\n",
    "\n",
    "def makeSettings():\n",
    "    return Settings(randint(0,100),randint(0,100),randint(0,100),randint(0,1600),randint(0,200000))\n",
    "def makeUser(userId,name):\n",
    "    pin = 1234\n",
    "    userType = randint(0,2)\n",
    "    active = True\n",
    "    settings = makeSettings()\n",
    "    return User(userId,name,pin,active,userType, settings)\n"
   ]
  },
  {
   "cell_type": "code",
   "execution_count": 5,
   "metadata": {},
   "outputs": [],
   "source": [
    "def generateUser(userId,name):\n",
    "    return makeUser(userId,name)\n",
    "\n",
    "def generateTrial(trialId,userId,generateImages=False):\n",
    "    #userId, dateTime, notes, scan, result, captureDetails, cameraDetails\n",
    "    paths = makeScanPaths(trialId,userId,randint(1,3))\n",
    "    if (generateImages):\n",
    "        for path in paths:\n",
    "            img = makeImage()\n",
    "            if not os.path.isdir(path.split('/s')[0]):\n",
    "                os.makedirs(path.split('/s')[0])\n",
    "            img.save(path)\n",
    "    return Trial(trialId,userId,datetime.now().astimezone(timezone.utc).timestamp(),\n",
    "                 makeScanPaths(trialId,userId,randint(1,3)),str(userId) + \": Good notes\",makeResult(),\n",
    "                 makeCaptureDetails(),makeCameraDetails())"
   ]
  },
  {
   "cell_type": "code",
   "execution_count": 6,
   "metadata": {},
   "outputs": [],
   "source": [
    "storage = FileStorage.FileStorage('LucereDummy.fs')\n",
    "db = DB(storage)\n",
    "connection = db.open()\n",
    "root = connection.root()"
   ]
  },
  {
   "cell_type": "code",
   "execution_count": 7,
   "metadata": {},
   "outputs": [
    {
     "name": "stdout",
     "output_type": "stream",
     "text": [
      "Jonah\n",
      "Vanessa\n",
      "Ciprian\n",
      "Sadie\n",
      "Atticus\n"
     ]
    }
   ],
   "source": [
    "names = [\"Jonah\", \"Vanessa\", \"Ciprian\", \"Sadie\", \"Atticus\"]\n",
    "users = []\n",
    "trials = []\n",
    "for userId in range(len(names)):\n",
    "    print(names[userId])\n",
    "    u = generateUser(userId,names[userId])\n",
    "    users.append(u)\n",
    "    trials.append(generateTrial(len(trials),userId,generateImages=True))\n",
    "    "
   ]
  },
  {
   "cell_type": "code",
   "execution_count": 8,
   "metadata": {},
   "outputs": [
    {
     "name": "stdout",
     "output_type": "stream",
     "text": [
      "User:0,Jonah: 2\n",
      "Brightness: 7, Contrast: 61, Sharpness: 71, ISO: 1389, Shutter_Speed: 115114\n",
      "User:1,Vanessa: 2\n",
      "Brightness: 74, Contrast: 49, Sharpness: 69, ISO: 349, Shutter_Speed: 127428\n",
      "User:2,Ciprian: 1\n",
      "Brightness: 88, Contrast: 26, Sharpness: 99, ISO: 386, Shutter_Speed: 74837\n",
      "User:3,Sadie: 2\n",
      "Brightness: 97, Contrast: 18, Sharpness: 46, ISO: 1401, Shutter_Speed: 6537\n",
      "User:4,guest: 0\n",
      "Brightness: 74, Contrast: 96, Sharpness: 63, ISO: 1026, Shutter_Speed: 69485\n"
     ]
    }
   ],
   "source": [
    "for user in users:\n",
    "    print(f'User:{user.userId},{user.name}: {user.userType}')\n",
    "    print(user.get_settings().format_settings())"
   ]
  },
  {
   "cell_type": "code",
   "execution_count": 9,
   "metadata": {},
   "outputs": [
    {
     "name": "stdout",
     "output_type": "stream",
     "text": [
      "Trial: 0 : 0 : 2021-04-01 16:39:48.639786 \n",
      " Result: Detected: 1, Wavelength: 539, Strength: 10 \n",
      " Path: ['data/user0/trial0/scan0.jpg', 'data/user0/trial0/scan1.jpg']\n",
      "Trial: 1 : 1 : 2021-04-01 16:39:49.017953 \n",
      " Result: Detected: 0, Wavelength: 589, Strength: 1 \n",
      " Path: ['data/user1/trial1/scan0.jpg', 'data/user1/trial1/scan1.jpg']\n",
      "Trial: 2 : 2 : 2021-04-01 16:39:49.145952 \n",
      " Result: Detected: 1, Wavelength: 622, Strength: 1 \n",
      " Path: ['data/user2/trial2/scan0.jpg']\n",
      "Trial: 3 : 3 : 2021-04-01 16:39:49.274952 \n",
      " Result: Detected: 0, Wavelength: 631, Strength: 9 \n",
      " Path: ['data/user3/trial3/scan0.jpg', 'data/user3/trial3/scan1.jpg']\n",
      "Trial: 4 : 4 : 2021-04-01 16:39:49.657952 \n",
      " Result: Detected: 1, Wavelength: 568, Strength: 7 \n",
      " Path: ['data/user4/trial4/scan0.jpg', 'data/user4/trial4/scan1.jpg']\n"
     ]
    }
   ],
   "source": [
    "for trial in trials:\n",
    "    print(trial.format_trial())"
   ]
  },
  {
   "cell_type": "code",
   "execution_count": 10,
   "metadata": {},
   "outputs": [],
   "source": [
    "root.users = BTrees.OOBTree.BTree()\n",
    "root.trials = BTrees.OOBTree.BTree()"
   ]
  },
  {
   "cell_type": "code",
   "execution_count": 11,
   "metadata": {},
   "outputs": [],
   "source": [
    "for u in users:\n",
    "    root.users[u.userId] = u\n",
    "for t in trials:\n",
    "    root.trials[t.trialId] = t\n",
    "transaction.commit()"
   ]
  },
  {
   "cell_type": "code",
   "execution_count": 12,
   "metadata": {},
   "outputs": [],
   "source": [
    "##Converts blob uid to PIL image\n",
    "def serveimage(uid,width,height):\n",
    "    # retrieve uid from somewhere\n",
    "    resp = Response(content_type='image/jpeg')\n",
    "    resp.app_iter = uid.open('r')  # open for reading\n",
    "    return PImage.frombytes('RGB', (width,height), resp.body, 'raw')"
   ]
  },
  {
   "cell_type": "code",
   "execution_count": 48,
   "metadata": {},
   "outputs": [
    {
     "data": {
      "text/plain": [
       "['__call__',\n",
       " '__class__',\n",
       " '__delattr__',\n",
       " '__dict__',\n",
       " '__dir__',\n",
       " '__doc__',\n",
       " '__eq__',\n",
       " '__format__',\n",
       " '__ge__',\n",
       " '__getattribute__',\n",
       " '__gt__',\n",
       " '__hash__',\n",
       " '__implemented__',\n",
       " '__init__',\n",
       " '__init_subclass__',\n",
       " '__le__',\n",
       " '__lt__',\n",
       " '__module__',\n",
       " '__ne__',\n",
       " '__new__',\n",
       " '__providedBy__',\n",
       " '__provides__',\n",
       " '__reduce__',\n",
       " '__reduce_ex__',\n",
       " '__repr__',\n",
       " '__setattr__',\n",
       " '__sizeof__',\n",
       " '__str__',\n",
       " '__subclasshook__',\n",
       " '__weakref__',\n",
       " '_abs_headerlist',\n",
       " '_app_iter',\n",
       " '_app_iter__del',\n",
       " '_app_iter__get',\n",
       " '_app_iter__set',\n",
       " '_body__get',\n",
       " '_body__set',\n",
       " '_body_file__del',\n",
       " '_body_file__get',\n",
       " '_body_file__set',\n",
       " '_cache_control__del',\n",
       " '_cache_control__get',\n",
       " '_cache_control__set',\n",
       " '_cache_control_obj',\n",
       " '_cache_expires',\n",
       " '_charset__del',\n",
       " '_charset__get',\n",
       " '_charset__set',\n",
       " '_content_type__del',\n",
       " '_content_type__get',\n",
       " '_content_type__set',\n",
       " '_content_type_params__del',\n",
       " '_content_type_params__get',\n",
       " '_content_type_params__set',\n",
       " '_etag_raw',\n",
       " '_has_body__get',\n",
       " '_headerlist',\n",
       " '_headerlist__del',\n",
       " '_headerlist__get',\n",
       " '_headerlist__set',\n",
       " '_headers',\n",
       " '_headers__get',\n",
       " '_headers__set',\n",
       " '_json_body__del',\n",
       " '_json_body__get',\n",
       " '_json_body__set',\n",
       " '_make_location_absolute',\n",
       " '_safe_methods',\n",
       " '_status',\n",
       " '_status__get',\n",
       " '_status__set',\n",
       " '_status_code__get',\n",
       " '_status_code__set',\n",
       " '_text__del',\n",
       " '_text__get',\n",
       " '_text__set',\n",
       " '_update_cache_control',\n",
       " 'accept_ranges',\n",
       " 'age',\n",
       " 'allow',\n",
       " 'app_iter',\n",
       " 'app_iter_range',\n",
       " 'body',\n",
       " 'body_file',\n",
       " 'cache_control',\n",
       " 'cache_expires',\n",
       " 'charset',\n",
       " 'conditional_response',\n",
       " 'conditional_response_app',\n",
       " 'content_disposition',\n",
       " 'content_encoding',\n",
       " 'content_language',\n",
       " 'content_length',\n",
       " 'content_location',\n",
       " 'content_md5',\n",
       " 'content_range',\n",
       " 'content_type',\n",
       " 'content_type_params',\n",
       " 'copy',\n",
       " 'date',\n",
       " 'decode_content',\n",
       " 'default_body_encoding',\n",
       " 'default_charset',\n",
       " 'default_conditional_response',\n",
       " 'default_content_type',\n",
       " 'delete_cookie',\n",
       " 'encode_content',\n",
       " 'environ',\n",
       " 'etag',\n",
       " 'etag_strong',\n",
       " 'expires',\n",
       " 'from_file',\n",
       " 'has_body',\n",
       " 'headerlist',\n",
       " 'headers',\n",
       " 'json',\n",
       " 'json_body',\n",
       " 'last_modified',\n",
       " 'location',\n",
       " 'md5_etag',\n",
       " 'merge_cookies',\n",
       " 'pragma',\n",
       " 'request',\n",
       " 'retry_after',\n",
       " 'server',\n",
       " 'set_cookie',\n",
       " 'status',\n",
       " 'status_code',\n",
       " 'status_int',\n",
       " 'text',\n",
       " 'ubody',\n",
       " 'unicode_body',\n",
       " 'unicode_errors',\n",
       " 'unset_cookie',\n",
       " 'vary',\n",
       " 'write',\n",
       " 'www_authenticate']"
      ]
     },
     "execution_count": 48,
     "metadata": {},
     "output_type": "execute_result"
    }
   ],
   "source": [
    "dir(x)"
   ]
  },
  {
   "cell_type": "code",
   "execution_count": 13,
   "metadata": {},
   "outputs": [
    {
     "ename": "TypeError",
     "evalue": "('Could not adapt', [<ZODB.blob.Blob object at 0x0000023C2855EA50>], <InterfaceClass ZODB.interfaces.IBlobStorage>)",
     "output_type": "error",
     "traceback": [
      "\u001b[1;31m---------------------------------------------------------------------------\u001b[0m",
      "\u001b[1;31mTypeError\u001b[0m                                 Traceback (most recent call last)",
      "\u001b[1;32m<ipython-input-13-10b2f8b73a65>\u001b[0m in \u001b[0;36m<module>\u001b[1;34m\u001b[0m\n\u001b[1;32m----> 1\u001b[1;33m \u001b[0mIBlobStorage\u001b[0m\u001b[1;33m(\u001b[0m\u001b[0muid\u001b[0m\u001b[1;33m)\u001b[0m\u001b[1;33m\u001b[0m\u001b[1;33m\u001b[0m\u001b[0m\n\u001b[0m",
      "\u001b[1;31mTypeError\u001b[0m: ('Could not adapt', [<ZODB.blob.Blob object at 0x0000023C2855EA50>], <InterfaceClass ZODB.interfaces.IBlobStorage>)"
     ]
    }
   ],
   "source": [
    "IBlobStorage(uid)"
   ]
  },
  {
   "cell_type": "code",
   "execution_count": 19,
   "metadata": {},
   "outputs": [],
   "source": [
    "from ZODB.blob import BlobStorage\n",
    "from ZODB.MappingStorage import MappingStorage\n",
    "from tempfile import mkdtemp"
   ]
  },
  {
   "cell_type": "code",
   "execution_count": 20,
   "metadata": {},
   "outputs": [],
   "source": [
    "base_storage = MappingStorage(\"test\")\n",
    "blob_dir = mkdtemp()\n",
    "Storage = BlobStorage(blob_dir, base_storage)"
   ]
  },
  {
   "cell_type": "code",
   "execution_count": 21,
   "metadata": {},
   "outputs": [
    {
     "data": {
      "text/plain": [
       "['_BlobStorageMixin__untransform_record_data',\n",
       " '_BlobStorage__storage',\n",
       " '_BlobStorage__supportsUndo',\n",
       " '__class__',\n",
       " '__delattr__',\n",
       " '__dict__',\n",
       " '__dir__',\n",
       " '__doc__',\n",
       " '__eq__',\n",
       " '__format__',\n",
       " '__ge__',\n",
       " '__getattr__',\n",
       " '__getattribute__',\n",
       " '__gt__',\n",
       " '__hash__',\n",
       " '__implemented__',\n",
       " '__init__',\n",
       " '__init_subclass__',\n",
       " '__le__',\n",
       " '__len__',\n",
       " '__lt__',\n",
       " '__module__',\n",
       " '__ne__',\n",
       " '__new__',\n",
       " '__providedBy__',\n",
       " '__provides__',\n",
       " '__reduce__',\n",
       " '__reduce_ex__',\n",
       " '__repr__',\n",
       " '__setattr__',\n",
       " '__sizeof__',\n",
       " '__str__',\n",
       " '__subclasshook__',\n",
       " '__weakref__',\n",
       " '_blob_init',\n",
       " '_blob_init_no_blobs',\n",
       " '_blob_storeblob',\n",
       " '_blob_tpc_abort',\n",
       " '_blob_tpc_finish',\n",
       " '_blobs_pack_is_in_progress',\n",
       " '_packNonUndoing',\n",
       " '_packUndoing',\n",
       " 'copyTransactionsFrom',\n",
       " 'dirty_oids',\n",
       " 'fshelper',\n",
       " 'is_blob_record',\n",
       " 'loadBlob',\n",
       " 'new_instance',\n",
       " 'openCommittedBlobFile',\n",
       " 'pack',\n",
       " 'registerDB',\n",
       " 'restoreBlob',\n",
       " 'storeBlob',\n",
       " 'temporaryDirectory',\n",
       " 'tpc_abort',\n",
       " 'tpc_finish',\n",
       " 'undo']"
      ]
     },
     "execution_count": 21,
     "metadata": {},
     "output_type": "execute_result"
    }
   ],
   "source": [
    "dir(Storage)"
   ]
  },
  {
   "cell_type": "code",
   "execution_count": 25,
   "metadata": {},
   "outputs": [],
   "source": [
    "x = makeScanPaths(0,1,3)"
   ]
  },
  {
   "cell_type": "code",
   "execution_count": 26,
   "metadata": {},
   "outputs": [
    {
     "data": {
      "text/plain": [
       "'user1/trial0/scan0.jpg'"
      ]
     },
     "execution_count": 26,
     "metadata": {},
     "output_type": "execute_result"
    }
   ],
   "source": [
    "x[0]"
   ]
  },
  {
   "cell_type": "code",
   "execution_count": 28,
   "metadata": {},
   "outputs": [
    {
     "data": {
      "text/plain": [
       "'user1/trial0'"
      ]
     },
     "execution_count": 28,
     "metadata": {},
     "output_type": "execute_result"
    }
   ],
   "source": [
    "x[0].split('/s')[0]"
   ]
  },
  {
   "cell_type": "code",
   "execution_count": 30,
   "metadata": {},
   "outputs": [
    {
     "data": {
      "text/plain": [
       "False"
      ]
     },
     "execution_count": 30,
     "metadata": {},
     "output_type": "execute_result"
    }
   ],
   "source": [
    "os.path.isdir(x[0].split('/s')[0])"
   ]
  },
  {
   "cell_type": "code",
   "execution_count": 33,
   "metadata": {},
   "outputs": [],
   "source": [
    "os.mkdir('test/test2')"
   ]
  },
  {
   "cell_type": "code",
   "execution_count": null,
   "metadata": {},
   "outputs": [],
   "source": []
  }
 ],
 "metadata": {
  "kernelspec": {
   "display_name": "Python 3",
   "language": "python",
   "name": "python3"
  },
  "language_info": {
   "codemirror_mode": {
    "name": "ipython",
    "version": 3
   },
   "file_extension": ".py",
   "mimetype": "text/x-python",
   "name": "python",
   "nbconvert_exporter": "python",
   "pygments_lexer": "ipython3",
   "version": "3.8.3"
  }
 },
 "nbformat": 4,
 "nbformat_minor": 4
}
