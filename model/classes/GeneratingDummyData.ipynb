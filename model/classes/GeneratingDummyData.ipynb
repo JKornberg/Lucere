{
 "cells": [
  {
   "cell_type": "code",
   "execution_count": 1,
   "metadata": {},
   "outputs": [],
   "source": [
    "from IPython.display import Image \n",
    "from pyramid.response import Response\n"
   ]
  },
  {
   "cell_type": "code",
   "execution_count": 2,
   "metadata": {},
   "outputs": [],
   "source": [
    "from ZODB import FileStorage, DB\n",
    "from ZODB.interfaces import IBlobStorage\n",
    "import BTrees.OOBTree\n",
    "import transaction\n",
    "import persistent\n",
    "from datetime import datetime\n",
    "from datetime import timezone\n",
    "import numpy as np\n",
    "from ZODB.blob import Blob\n",
    "from PIL import Image as PImage\n",
    "import os"
   ]
  },
  {
   "cell_type": "code",
   "execution_count": 3,
   "metadata": {},
   "outputs": [],
   "source": [
    "from CameraDetails import CameraDetails\n",
    "from CaptureDetails import CaptureDetails\n",
    "from Result import Result\n",
    "from Settings import Settings\n",
    "from Trial import Trial\n",
    "from User import User"
   ]
  },
  {
   "cell_type": "code",
   "execution_count": 4,
   "metadata": {},
   "outputs": [],
   "source": [
    "from random import randint\n",
    "def makeCameraDetails():\n",
    "    return CameraDetails(randint(1,10),randint(1,10),randint(1,10),randint(1,10),randint(1,10),randint(1,10),randint(1,10),randint(1,10),randint(1,10),randint(1,10))\n",
    "def makeCaptureDetails():\n",
    "    sp = randint(500,6000)\n",
    "    duration = int(randint(sp,1200000)/1000) #0 to 1200 seconds (20 mins)\n",
    "    interval = int(randint(sp,duration*1000)/1000)\n",
    "    count = duration/interval\n",
    "    return CaptureDetails(sp,duration,interval,count)\n",
    "def makeResult():\n",
    "    return Result(randint(0,1),randint(500,700),randint(0,10))\n",
    "def makeImage():\n",
    "    A = (np.random.rand(1080,1920,3)*255).astype('uint8')\n",
    "    im = PImage.fromarray(A)\n",
    "    return im\n",
    "\n",
    "def makeScanPaths(trialId,userId,count):\n",
    "    return [f\"data/user{userId}/trial{trialId}/scan{i}.jpg\" for i in range(count)]\n",
    "\n",
    "def makeSettings():\n",
    "    return Settings(randint(0,100),randint(0,100),randint(0,100),randint(0,1600),randint(0,200000))\n",
    "def makeUser(userId,name):\n",
    "    pin = 1234\n",
    "    userType = randint(0,2)\n",
    "    active = True\n",
    "    settings = makeSettings()\n",
    "    return User(userId,name,pin,active,userType, settings)\n"
   ]
  },
  {
   "cell_type": "code",
   "execution_count": 22,
   "metadata": {},
   "outputs": [],
   "source": [
    "def generateUser(userId,name):\n",
    "    return makeUser(userId,name,randint(1,3))\n",
    "\n",
    "def generateTrial(trialId,userId,generateImages=False):\n",
    "    #userId, dateTime, notes, scan, result, captureDetails, cameraDetails\n",
    "    paths = makeScanPaths(trialId,userId,randint(1,3))\n",
    "    if (generateImages):\n",
    "        for path in paths:\n",
    "            img = makeImage()\n",
    "            if not os.path.isdir(path.split('/s')[0]):\n",
    "                os.makedirs(path.split('/s')[0])\n",
    "            img.save(path)\n",
    "    return Trial(trialId,userId,datetime.now().astimezone(timezone.utc).timestamp(),\n",
    "                 makeScanPaths(trialId,userId,randint(1,3)),str(userId) + \": Good notes\",makeResult(),\n",
    "                 makeCaptureDetails(),makeCameraDetails())"
   ]
  },
  {
   "cell_type": "code",
   "execution_count": 6,
   "metadata": {},
   "outputs": [],
   "source": [
    "storage = FileStorage.FileStorage('LucereDummy.fs')\n",
    "db = DB(storage)\n",
    "connection = db.open()\n",
    "root = connection.root()"
   ]
  },
  {
   "cell_type": "code",
   "execution_count": 7,
   "metadata": {},
   "outputs": [
    {
     "name": "stdout",
     "output_type": "stream",
     "text": [
      "Jonah\n",
      "Vanessa\n",
      "Ciprian\n",
      "Sadie\n",
      "Atticus\n"
     ]
    }
   ],
   "source": [
    "names = [\"Jonah\", \"Vanessa\", \"Ciprian\", \"Sadie\", \"Atticus\"]\n",
    "users = []\n",
    "trials = []\n",
    "for userId in range(len(names)):\n",
    "    print(names[userId])\n",
    "    u = generateUser(userId,names[userId])\n",
    "    users.append(u)\n",
    "    trials.append(generateTrial(len(trials),userId,generateImages=True))\n",
    "    "
   ]
  },
  {
   "cell_type": "code",
   "execution_count": 23,
   "metadata": {},
   "outputs": [
    {
     "name": "stdout",
     "output_type": "stream",
     "text": [
      "User:0,Jonah: 2\n"
     ]
    },
    {
     "ename": "AttributeError",
     "evalue": "'User' object has no attribute 'trialIds'",
     "output_type": "error",
     "traceback": [
      "\u001b[1;31m---------------------------------------------------------------------------\u001b[0m",
      "\u001b[1;31mAttributeError\u001b[0m                            Traceback (most recent call last)",
      "\u001b[1;32m<ipython-input-23-830eaf2f9893>\u001b[0m in \u001b[0;36m<module>\u001b[1;34m\u001b[0m\n\u001b[0;32m      1\u001b[0m \u001b[1;32mfor\u001b[0m \u001b[0muser\u001b[0m \u001b[1;32min\u001b[0m \u001b[0musers\u001b[0m\u001b[1;33m:\u001b[0m\u001b[1;33m\u001b[0m\u001b[1;33m\u001b[0m\u001b[0m\n\u001b[0;32m      2\u001b[0m     \u001b[0mprint\u001b[0m\u001b[1;33m(\u001b[0m\u001b[1;34mf'User:{user.userId},{user.name}: {user.userType}'\u001b[0m\u001b[1;33m)\u001b[0m\u001b[1;33m\u001b[0m\u001b[1;33m\u001b[0m\u001b[0m\n\u001b[1;32m----> 3\u001b[1;33m     \u001b[0mprint\u001b[0m\u001b[1;33m(\u001b[0m\u001b[0muser\u001b[0m\u001b[1;33m.\u001b[0m\u001b[0mtrialIds\u001b[0m\u001b[1;33m)\u001b[0m\u001b[1;33m\u001b[0m\u001b[1;33m\u001b[0m\u001b[0m\n\u001b[0m\u001b[0;32m      4\u001b[0m     \u001b[0mprint\u001b[0m\u001b[1;33m(\u001b[0m\u001b[0muser\u001b[0m\u001b[1;33m.\u001b[0m\u001b[0mget_settings\u001b[0m\u001b[1;33m(\u001b[0m\u001b[1;33m)\u001b[0m\u001b[1;33m.\u001b[0m\u001b[0mformat_settings\u001b[0m\u001b[1;33m(\u001b[0m\u001b[1;33m)\u001b[0m\u001b[1;33m)\u001b[0m\u001b[1;33m\u001b[0m\u001b[1;33m\u001b[0m\u001b[0m\n",
      "\u001b[1;31mAttributeError\u001b[0m: 'User' object has no attribute 'trialIds'"
     ]
    }
   ],
   "source": [
    "for user in users:\n",
    "    print(f'User:{user.userId},{user.name}: {user.userType}')\n",
    "    print(user.trialIds)\n",
    "    print(user.get_settings().format_settings())"
   ]
  },
  {
   "cell_type": "code",
   "execution_count": 9,
   "metadata": {},
   "outputs": [
    {
     "name": "stdout",
     "output_type": "stream",
     "text": [
      "Trial: 0 : 0 : 2021-04-01 16:39:48.639786 \n",
      " Result: Detected: 1, Wavelength: 539, Strength: 10 \n",
      " Path: ['data/user0/trial0/scan0.jpg', 'data/user0/trial0/scan1.jpg']\n",
      "Trial: 1 : 1 : 2021-04-01 16:39:49.017953 \n",
      " Result: Detected: 0, Wavelength: 589, Strength: 1 \n",
      " Path: ['data/user1/trial1/scan0.jpg', 'data/user1/trial1/scan1.jpg']\n",
      "Trial: 2 : 2 : 2021-04-01 16:39:49.145952 \n",
      " Result: Detected: 1, Wavelength: 622, Strength: 1 \n",
      " Path: ['data/user2/trial2/scan0.jpg']\n",
      "Trial: 3 : 3 : 2021-04-01 16:39:49.274952 \n",
      " Result: Detected: 0, Wavelength: 631, Strength: 9 \n",
      " Path: ['data/user3/trial3/scan0.jpg', 'data/user3/trial3/scan1.jpg']\n",
      "Trial: 4 : 4 : 2021-04-01 16:39:49.657952 \n",
      " Result: Detected: 1, Wavelength: 568, Strength: 7 \n",
      " Path: ['data/user4/trial4/scan0.jpg', 'data/user4/trial4/scan1.jpg']\n"
     ]
    }
   ],
   "source": [
    "for trial in trials:\n",
    "    print(trial.format_trial())"
   ]
  },
  {
   "cell_type": "code",
   "execution_count": 10,
   "metadata": {},
   "outputs": [],
   "source": [
    "root.users = BTrees.OOBTree.BTree()\n",
    "root.trials = BTrees.OOBTree.BTree()"
   ]
  },
  {
   "cell_type": "code",
   "execution_count": 11,
   "metadata": {},
   "outputs": [],
   "source": [
    "for u in users:\n",
    "    root.users[u.userId] = u\n",
    "for t in trials:\n",
    "    root.trials[t.trialId] = t\n",
    "transaction.commit()"
   ]
  },
  {
   "cell_type": "code",
   "execution_count": 12,
   "metadata": {},
   "outputs": [],
   "source": [
    "##Converts blob uid to PIL image\n",
    "def serveimage(uid,width,height):\n",
    "    # retrieve uid from somewhere\n",
    "    resp = Response(content_type='image/jpeg')\n",
    "    resp.app_iter = uid.open('r')  # open for reading\n",
    "    return PImage.frombytes('RGB', (width,height), resp.body, 'raw')"
   ]
  },
  {
   "cell_type": "code",
   "execution_count": 25,
   "metadata": {},
   "outputs": [],
   "source": [
    "x = makeScanPaths(0,1,3)"
   ]
  },
  {
   "cell_type": "code",
   "execution_count": 15,
   "metadata": {},
   "outputs": [
    {
     "data": {
      "text/plain": [
       "5"
      ]
     },
     "execution_count": 15,
     "metadata": {},
     "output_type": "execute_result"
    }
   ],
   "source": [
    "len(root.trials)"
   ]
  },
  {
   "cell_type": "code",
   "execution_count": 19,
   "metadata": {},
   "outputs": [
    {
     "name": "stdout",
     "output_type": "stream",
     "text": [
      "Jonah\n",
      "Vanessa\n",
      "Ciprian\n",
      "Sadie\n",
      "guest\n"
     ]
    }
   ],
   "source": [
    "\n",
    "userTrials= []\n",
    "for t in u.trials:\n",
    "    userTrials.append(root.trials[t])"
   ]
  },
  {
   "cell_type": "code",
   "execution_count": 21,
   "metadata": {},
   "outputs": [
    {
     "name": "stdout",
     "output_type": "stream",
     "text": [
      "2218\n",
      "3509\n",
      "2255\n",
      "2786\n",
      "5386\n"
     ]
    }
   ],
   "source": [
    "for trial in root.trials:\n",
    "    t = root.trials[trial]\n",
    "    print(t.captureDetails.shutter_speed)"
   ]
  },
  {
   "cell_type": "code",
   "execution_count": null,
   "metadata": {},
   "outputs": [],
   "source": []
  }
 ],
 "metadata": {
  "kernelspec": {
   "display_name": "Python 3",
   "language": "python",
   "name": "python3"
  },
  "language_info": {
   "codemirror_mode": {
    "name": "ipython",
    "version": 3
   },
   "file_extension": ".py",
   "mimetype": "text/x-python",
   "name": "python",
   "nbconvert_exporter": "python",
   "pygments_lexer": "ipython3",
   "version": "3.8.3"
  }
 },
 "nbformat": 4,
 "nbformat_minor": 4
}
